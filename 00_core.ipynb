{
 "cells": [
  {
   "cell_type": "code",
   "execution_count": 1,
   "metadata": {},
   "outputs": [],
   "source": [
    "# default_exp core"
   ]
  },
  {
   "cell_type": "markdown",
   "metadata": {},
   "source": [
    "# fastrl\n",
    "\n",
    "> A Concise introduction to key ideas in RL."
   ]
  },
  {
   "cell_type": "code",
   "execution_count": 2,
   "metadata": {},
   "outputs": [],
   "source": [
    "#hide\n",
    "from nbdev.showdoc import *"
   ]
  },
  {
   "cell_type": "code",
   "execution_count": 3,
   "metadata": {},
   "outputs": [],
   "source": [
    "#hide\n",
    "from fastrl.core import *"
   ]
  },
  {
   "cell_type": "markdown",
   "metadata": {},
   "source": [
    "## Introduction"
   ]
  },
  {
   "cell_type": "markdown",
   "metadata": {},
   "source": [
    "Let's start with humans learning from experiance.Say we are trying to learn to bicycle. We are driven by a goal to `stay balanced and pedal`.Along the way we fall.Now we need to start again.Somewhere in the gap between each iteration,we are learning and improving.Let's hash out the features of this process,if we are to model this :\n",
    "\n",
    "1. **Past actions influence future output**: There is no immediate feedback.Each micro-action(exerting more pressure on the pedal,..) along the way either leads to falling-off balance or keep moving.\n",
    "\n",
    "\n",
    " `Computational Problem` : How to assign credit to actions when they are not temporally connected ?\n",
    " \n",
    " \n",
    "\n",
    "2. **Outcomes might not be deterministic**: There are features of the environment(road,weather etc) that we do not fully understand that can effect outcome of the action.\n",
    "\n",
    "`Computational Problem`: How to make inference about the properties of a system under uncertainity ?\n",
    "\n"
   ]
  },
  {
   "cell_type": "markdown",
   "metadata": {},
   "source": [
    "Since out of the above two the latter seems to be simpler,let's  start by building our intuition about Non-deterministic systems :\n",
    "Let's say we are given a Non-deterministic system whose properties we are unaware of.How can we build our knowledge about the properties of this system ?Can we come up with a systematic way(algorithm) to estimate it's behaviour ?"
   ]
  },
  {
   "cell_type": "code",
   "execution_count": 4,
   "metadata": {},
   "outputs": [],
   "source": [
    "#hide\n",
    "import matplotlib.pyplot as plt\n",
    "import torch\n",
    "def query(): return torch.randn(1).item()*10\n",
    "\n"
   ]
  },
  {
   "cell_type": "code",
   "execution_count": 5,
   "metadata": {},
   "outputs": [
    {
     "data": {
      "text/plain": [
       "(7.4098241329193115, 0.5061513558030128, -6.351804733276367)"
      ]
     },
     "execution_count": 5,
     "metadata": {},
     "output_type": "execute_result"
    }
   ],
   "source": [
    "query(),query(),query() #Fires different measurements each time."
   ]
  },
  {
   "cell_type": "markdown",
   "metadata": {},
   "source": [
    "\n",
    "Now let's measure a **property** of this system...say it's **mean**:\n",
    "\n",
    "\n",
    "1. How will your estimate of this mean change with each query ? \n",
    "\n",
    "\n",
    "2. How does your confidence on this mean change with increasing number of queries $n$ ?"
   ]
  },
  {
   "cell_type": "code",
   "execution_count": 6,
   "metadata": {},
   "outputs": [],
   "source": [
    "def estimate_mean(n):\n",
    "    \"\"\"Returns list of estimated means after each query repeated for n times.\"\"\"\n",
    "    list_n = [] # keep track of all the outputs from our slot machine\n",
    "    list_mean = [] # collect the means after every sample.\n",
    "    for i in range(n):\n",
    "        out = query()\n",
    "        list_n.append(out)\n",
    "        list_mean.append(sum(list_n)/len(list_n))\n",
    "    return list_mean   "
   ]
  },
  {
   "cell_type": "code",
   "execution_count": 7,
   "metadata": {},
   "outputs": [
    {
     "data": {
      "text/plain": [
       "[-3.6879709362983704,\n",
       " 6.314430087804794,\n",
       " 2.469513714313507,\n",
       " 3.6626791208982468,\n",
       " 4.9673797488212585,\n",
       " 0.7197671631971995,\n",
       " -1.0968147431101118,\n",
       " 1.3386080786585808,\n",
       " 1.4323793351650238,\n",
       " 0.6985524743795395]"
      ]
     },
     "execution_count": 7,
     "metadata": {},
     "output_type": "execute_result"
    }
   ],
   "source": [
    "estimate_mean(10) # The list of estimates for n = 1...10"
   ]
  },
  {
   "cell_type": "code",
   "execution_count": 8,
   "metadata": {},
   "outputs": [
    {
     "data": {
      "text/plain": [
       "(array([12., 75.,  6.,  2.,  0.,  1.,  0.,  2.,  0.,  2.]),\n",
       " array([-1.79274052, -0.24139413,  1.30995226,  2.86129865,  4.41264504,\n",
       "         5.96399143,  7.51533782,  9.06668422, 10.61803061, 12.169377  ,\n",
       "        13.72072339]),\n",
       " <a list of 10 Patch objects>)"
      ]
     },
     "execution_count": 8,
     "metadata": {},
     "output_type": "execute_result"
    },
    {
     "data": {
      "image/png": "[encoded data removed]",
      "text/plain": [
       "<Figure size 432x288 with 1 Axes>"
      ]
     },
     "metadata": {
      "needs_background": "light"
     },
     "output_type": "display_data"
    }
   ],
   "source": [
    "#let's plot these means\n",
    "list_means = estimate_mean(100)\n",
    "plt.hist(list_means)"
   ]
  },
  {
   "cell_type": "markdown",
   "metadata": {},
   "source": [
    "We can see that the calculated mean vary a lot but seem to be closer to $0$ most often..But how does our estimate itself depend on $n$(number of queries) ?"
   ]
  },
  {
   "cell_type": "code",
   "execution_count": 9,
   "metadata": {},
   "outputs": [
    {
     "data": {
      "text/plain": [
       "[<matplotlib.lines.Line2D at 0x12325b050>]"
      ]
     },
     "execution_count": 9,
     "metadata": {},
     "output_type": "execute_result"
    },
    {
     "data": {
      "image/png": "[encoded data removed]",
      "text/plain": [
       "<Figure size 432x288 with 1 Axes>"
      ]
     },
     "metadata": {
      "needs_background": "light"
     },
     "output_type": "display_data"
    }
   ],
   "source": [
    "#let's measure the stability of our estimates by taking the difference of each successive estimates.\n",
    "\n",
    "diff_means = [list_means[i]-list_means[i-1] for i in range(1,len(list_means))]\n",
    "plt.plot(diff_means)\n"
   ]
  },
  {
   "cell_type": "markdown",
   "metadata": {},
   "source": [
    "Our estimate of the mean don't seem to change much after a while.This is interesting.This aligns with our intuition - with more samples, we can be more confident.We can even go about proclaiming that whatever the dynamics of the system it's mean might be constant ?"
   ]
  },
  {
   "cell_type": "code",
   "execution_count": null,
   "metadata": {},
   "outputs": [],
   "source": []
  }
 ],
 "metadata": {
  "kernelspec": {
   "display_name": "Python 3",
   "language": "python",
   "name": "python3"
  },
  "language_info": {
   "codemirror_mode": {
    "name": "ipython",
    "version": 3
   },
   "file_extension": ".py",
   "mimetype": "text/x-python",
   "name": "python",
   "nbconvert_exporter": "python",
   "pygments_lexer": "ipython3",
   "version": "3.7.6"
  }
 },
 "nbformat": 4,
 "nbformat_minor": 2
}
