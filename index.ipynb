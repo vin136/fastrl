{
 "cells": [
  {
   "cell_type": "code",
   "execution_count": 2,
   "metadata": {},
   "outputs": [],
   "source": [
    "#hide\n",
    "from fastrl.core import *"
   ]
  },
  {
   "cell_type": "markdown",
   "metadata": {},
   "source": [
    "# fastrl\n",
    "\n",
    "> A Concise introduction to key ideas in RL."
   ]
  },
  {
   "cell_type": "markdown",
   "metadata": {},
   "source": [
    "## Install"
   ]
  },
  {
   "cell_type": "markdown",
   "metadata": {},
   "source": [
    "`pip install fastrl`"
   ]
  },
  {
   "cell_type": "markdown",
   "metadata": {},
   "source": []
  },
  {
   "cell_type": "markdown",
   "metadata": {},
   "source": [
    "## How to use"
   ]
  },
  {
   "cell_type": "markdown",
   "metadata": {},
   "source": [
    "The following notes is targeted at people interested in Reinforcement Learning looking to get upto speed  without sacfricing on rigor.The necessary math is tackled but with computation first approach.Basic ability to write and understand simple programs and high school level math is all that is required.For readers looking to understand the latest developments in this field refer amazing [Spinning Up RL](https://spinningup.openai.com/en/latest/)\n",
    "\n",
    "\n",
    "### Suggestions :\n",
    "\n",
    "While reading the text reader should constantly be asking two questions :\n",
    "\n",
    "\n",
    "How can I implement this ? : \n",
    "\n",
    "`Brings practical computational problems into the picture and ensures actual understanding.`\n",
    "\n",
    "How can I be sure what I'm doing will work(If implemented correctly) ? : \n",
    "\n",
    "`As we will see RL needs lot of tricks and hacks to make it work. Whenever some notation and math help us in choosing sensible things,we should do it. This is where the rigor part of this notes comes into picture.This will be essential in removing the magic out of many **SOTA** algorithms in RL.`"
   ]
  },
  {
   "cell_type": "markdown",
   "metadata": {},
   "source": [
    "## Introduction"
   ]
  },
  {
   "cell_type": "markdown",
   "metadata": {},
   "source": [
    "Let's start with humans learning from experiance.Say we are trying to learn to bicycle. We are driven by a goal to `stay balanced and pedal`.Along the way we fall.Now we need to start again.Somewhere in the gap between each iteration,we are learning and improving.Let's hash out the features of this process,if we are to model this :\n",
    "\n",
    "1. **Past actions influence future output**: There is no immediate feedback.Each micro-action(exerting more pressure on the pedal,..) along the way either leads to falling-off balance or keep moving.\n",
    "\n",
    "\n",
    " `Computational Problem` : How to assign credit to actions when they are not temporally connected ?\n",
    " \n",
    " \n",
    "\n",
    "2. **Outcomes might not be deterministic**: There are features of the environment(road,weather etc) that we do not fully understand that can effect outcome of the action.\n",
    "\n",
    "`Computational Problem`: How to make inference about the properties of a system under uncertainity ?\n",
    "\n"
   ]
  },
  {
   "cell_type": "markdown",
   "metadata": {},
   "source": [
    "Since out of the above two the latter seems to be simpler,let's  start by building our intuition about Non-deterministic systems :\n",
    "Let's say we are given a Non-deterministic system whose properties we are unaware of.How can we build our knowledge about the properties of this system ?Can we come up with a systematic way(algorithm) to estimate it's behaviour ?"
   ]
  },
  {
   "cell_type": "code",
   "execution_count": 38,
   "metadata": {},
   "outputs": [],
   "source": [
    "#hide\n",
    "import matplotlib.pyplot as plt\n",
    "import torch\n",
    "def query(): return torch.randn(1).item()*10\n",
    "\n"
   ]
  },
  {
   "cell_type": "code",
   "execution_count": 39,
   "metadata": {},
   "outputs": [
    {
     "data": {
      "text/plain": [
       "(12.723662853240967, 3.924424648284912, -14.150433540344238)"
      ]
     },
     "execution_count": 39,
     "metadata": {},
     "output_type": "execute_result"
    }
   ],
   "source": [
    "query(),query(),query() #Fires different measurements each time."
   ]
  },
  {
   "cell_type": "markdown",
   "metadata": {},
   "source": [
    "\n",
    "Now let's measure a **property** of this system...say it's **mean**:\n",
    "\n",
    "\n",
    "1. How will your estimate of this mean change with each query ? \n",
    "\n",
    "\n",
    "2. How does your confidence on this mean change with increasing number of queries $n$ ?"
   ]
  },
  {
   "cell_type": "code",
   "execution_count": 29,
   "metadata": {},
   "outputs": [],
   "source": [
    "def estimate_mean(n):\n",
    "    \"\"\"Returns list of estimated means after each query repeated for n times.\"\"\"\n",
    "    list_n = [] # keep track of all the outputs from our slot machine\n",
    "    list_mean = [] # collect the means after every sample.\n",
    "    for i in range(n):\n",
    "        out = query()\n",
    "        list_n.append(out)\n",
    "        list_mean.append(sum(list_n)/len(list_n))\n",
    "    return list_mean   "
   ]
  },
  {
   "cell_type": "code",
   "execution_count": 30,
   "metadata": {},
   "outputs": [
    {
     "data": {
      "text/plain": [
       "[-2.5786030292510986,\n",
       " -4.730186462402344,\n",
       " -7.520177364349365,\n",
       " -7.9081882536411285,\n",
       " -8.29500961303711,\n",
       " -7.210639541347821,\n",
       " -7.688306761639459,\n",
       " -10.171684343367815,\n",
       " -9.197203450732761,\n",
       " -8.182818531990051]"
      ]
     },
     "execution_count": 30,
     "metadata": {},
     "output_type": "execute_result"
    }
   ],
   "source": [
    "estimate_mean(10) # The list of estimates for n = 1...10"
   ]
  },
  {
   "cell_type": "code",
   "execution_count": 35,
   "metadata": {},
   "outputs": [
    {
     "data": {
      "text/plain": [
       "(array([ 1.,  1.,  0.,  0.,  0.,  1.,  0.,  1., 12., 84.]),\n",
       " array([-16.37986064, -14.62730181, -12.87474298, -11.12218415,\n",
       "         -9.36962532,  -7.61706649,  -5.86450766,  -4.11194883,\n",
       "         -2.35939   ,  -0.60683117,   1.14572766]),\n",
       " <a list of 10 Patch objects>)"
      ]
     },
     "execution_count": 35,
     "metadata": {},
     "output_type": "execute_result"
    },
    {
     "data": {
      "image/png": "[encoded data removed]",
      "text/plain": [
       "<Figure size 432x288 with 1 Axes>"
      ]
     },
     "metadata": {
      "needs_background": "light"
     },
     "output_type": "display_data"
    }
   ],
   "source": [
    "#let's plot these means\n",
    "list_means = estimate_mean(100)\n",
    "plt.hist(list_means)"
   ]
  },
  {
   "cell_type": "markdown",
   "metadata": {},
   "source": [
    "We can see that the calculated mean vary a lot but seem to be closer to $0$ most often..But how does our estimate itself depend on $n$(number of queries) ?"
   ]
  },
  {
   "cell_type": "code",
   "execution_count": 36,
   "metadata": {},
   "outputs": [
    {
     "data": {
      "text/plain": [
       "[<matplotlib.lines.Line2D at 0x10a9a3b90>]"
      ]
     },
     "execution_count": 36,
     "metadata": {},
     "output_type": "execute_result"
    },
    {
     "data": {
      "image/png": "[encoded data removed]",
      "text/plain": [
       "<Figure size 432x288 with 1 Axes>"
      ]
     },
     "metadata": {
      "needs_background": "light"
     },
     "output_type": "display_data"
    }
   ],
   "source": [
    "#let's measure the stability of our estimates by taking the difference of each successive estimates.\n",
    "\n",
    "diff_means = [list_means[i]-list_means[i-1] for i in range(1,len(list_means))]\n",
    "plt.plot(diff_means)\n"
   ]
  },
  {
   "cell_type": "markdown",
   "metadata": {},
   "source": [
    "Our estimate of the mean don't seem to change much after a while.This is interesting.This aligns with our intuition - with more samples, we can be more confident.We can even go about proclaiming that whatever the dynamics of the system it's mean might be constant ?"
   ]
  },
  {
   "cell_type": "code",
   "execution_count": null,
   "metadata": {},
   "outputs": [],
   "source": []
  }
 ],
 "metadata": {
  "kernelspec": {
   "display_name": "Python 3",
   "language": "python",
   "name": "python3"
  },
  "language_info": {
   "codemirror_mode": {
    "name": "ipython",
    "version": 3
   },
   "file_extension": ".py",
   "mimetype": "text/x-python",
   "name": "python",
   "nbconvert_exporter": "python",
   "pygments_lexer": "ipython3",
   "version": "3.7.6"
  }
 },
 "nbformat": 4,
 "nbformat_minor": 2
}
