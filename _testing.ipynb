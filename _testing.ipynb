{
 "cells": [
  {
   "cell_type": "markdown",
   "metadata": {},
   "source": [
    "## Key Concepts"
   ]
  },
  {
   "cell_type": "markdown",
   "metadata": {},
   "source": [
    "### learning about the system with the interactions to the systems.\n",
    "-> rewards and punishments can be delayed in time from the action.(temporal disconnect.) <br>\n",
    "-> u might not get an evaluation from the input immediately.(state and reward is our imagination)<br>\n",
    "-> why not put vector reward.\n",
    "-> I do not have errors at every point/action.eg:writing an exam\n",
    "->Fundamental idea in rl\n",
    " * Intuition: The predictions i have at 't+1' are better than those at 't'(temporal difference learning)\n",
    " \n",
    "### create a tic-tac-toe in python and try to find the solution.\n",
    "\n",
    "->Say i'm at a particular board position and i managed to have some estimate of expected rewards..then i got to explore...say i'm at a board position with possible next step probabilities as (0.2,0.8,0.1) ..for fun i took the one with 0.2..then shall i update my vs.\n",
    "\n",
    "\n",
    "---------\n",
    "start with immediate reinforcement learning problem.\n",
    "Give a drug and test(at,rt,and )..outcome can be stochastic...(what is the optimal way to learn from a stocahstice environment)."
   ]
  },
  {
   "cell_type": "markdown",
   "metadata": {},
   "source": [
    "### Developing practical insight into probability. - motivating question.\n",
    "(how to know about a stochastic environment...given you can sample.?)\n",
    "\n",
    "-> coin flip,bayes rule,prior -> optimallearning.\n"
   ]
  },
  {
   "cell_type": "code",
   "execution_count": 7,
   "metadata": {},
   "outputs": [],
   "source": [
    "import torch\n",
    "import matplotlib.pyplot as plt"
   ]
  },
  {
   "cell_type": "code",
   "execution_count": 13,
   "metadata": {},
   "outputs": [],
   "source": [
    "a = torch.randn(10000)"
   ]
  },
  {
   "cell_type": "code",
   "execution_count": 14,
   "metadata": {},
   "outputs": [
    {
     "data": {
      "text/plain": [
       "(array([   8.,   91.,  534., 1712., 2926., 2731., 1516.,  423.,   53.,\n",
       "           6.]),\n",
       " array([-3.8676198 , -3.082831  , -2.298042  , -1.5132532 , -0.72846437,\n",
       "         0.05632448,  0.8411133 ,  1.6259022 ,  2.410691  ,  3.1954799 ,\n",
       "         3.9802687 ], dtype=float32),\n",
       " <a list of 10 Patch objects>)"
      ]
     },
     "execution_count": 14,
     "metadata": {},
     "output_type": "execute_result"
    },
    {
     "data": {
      "image/png": "[encoded data removed]",
      "text/plain": [
       "<Figure size 432x288 with 1 Axes>"
      ]
     },
     "metadata": {
      "needs_background": "light"
     },
     "output_type": "display_data"
    }
   ],
   "source": [
    "plt.hist(a)\n"
   ]
  },
  {
   "cell_type": "code",
   "execution_count": 16,
   "metadata": {},
   "outputs": [
    {
     "data": {
      "text/plain": [
       "(tensor(-0.0059), tensor(0.9857))"
      ]
     },
     "execution_count": 16,
     "metadata": {},
     "output_type": "execute_result"
    }
   ],
   "source": [
    "a.mean(),a.std()"
   ]
  },
  {
   "cell_type": "markdown",
   "metadata": {},
   "source": [
    "While reading the text reader should constantly be asking two questions:\n",
    "    1.How can i implement this.-> 'ensures actual understanding and also brings engineering problems into the picture.'\n",
    "    2.How can i be sure what i'm doing will work if implemented correctly. -> 'ensures rigor.'"
   ]
  },
  {
   "cell_type": "markdown",
   "metadata": {},
   "source": [
    "### Immediate RL.\n",
    "\n",
    "A = [1,2,3...n]\n",
    "\n",
    "* Multi-arm Bandit problems:solution concepts\n",
    "-> Asymptotic convergence.\n",
    "-> Regret optimality\n",
    "-> PAC complexity.(probably approximately correct)\n",
    "\n",
    "1.value function based methods - q.\n",
    "a.'E' greedy approach\n",
    "b.softmax approach.(more intelligent approach.)\n",
    "\n",
    "questions: What is the effect of using constant 'alpha' in case of stationary problems.(u will keep swinging back n forth.)\n"
   ]
  },
  {
   "cell_type": "markdown",
   "metadata": {},
   "source": [
    "bandit based problems:\n",
    "Regret optimality.\n",
    "UCB(upper confidence bound):"
   ]
  }
 ],
 "metadata": {
  "kernelspec": {
   "display_name": "Python 3",
   "language": "python",
   "name": "python3"
  },
  "language_info": {
   "codemirror_mode": {
    "name": "ipython",
    "version": 3
   },
   "file_extension": ".py",
   "mimetype": "text/x-python",
   "name": "python",
   "nbconvert_exporter": "python",
   "pygments_lexer": "ipython3",
   "version": "3.7.1"
  }
 },
 "nbformat": 4,
 "nbformat_minor": 2
}
