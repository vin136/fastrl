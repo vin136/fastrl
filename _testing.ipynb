{
 "cells": [
  {
   "cell_type": "markdown",
   "metadata": {},
   "source": [
    "## Key Concepts"
   ]
  },
  {
   "cell_type": "markdown",
   "metadata": {},
   "source": [
    "### learning about the system with the interactions to the systems.\n",
    "-> rewards and punishments can be delayed in time from the action.(temporal disconnect.) <br>\n",
    "-> u might not get an evaluation from the input immediately.(state and reward is our imagination)<br>\n",
    "-> why not put vector reward.\n",
    "-> I do not have errors at every point/action.eg:writing an exam\n",
    "->Fundamental idea in rl\n",
    " * Intuition: The predictions i have at 't+1' are better than those at 't'(temporal difference learning)\n",
    " \n",
    "### create a tic-tac-toe in python and try to find the solution.\n",
    "\n",
    "->Say i'm at a particular board position and i managed to have some estimate of expected rewards..then i got to explore...say i'm at a board position with possible next step probabilities as (0.2,0.8,0.1) ..for fun i took the one with 0.2..then shall i update my vs.\n",
    "\n",
    "\n",
    "---------\n",
    "start with immediate reinforcement learning problem.\n",
    "Give a drug and test(at,rt,and )..outcome can be stochastic...(what is the optimal way to learn from a stocahstice environment)."
   ]
  },
  {
   "cell_type": "markdown",
   "metadata": {},
   "source": [
    "### Developing practical insight into probability. - motivating question.\n",
    "(how to know about a stochastic environment...given you can sample.?)\n",
    "\n",
    "-> coin flip,bayes rule,prior -> optimallearning.\n"
   ]
  },
  {
   "cell_type": "code",
   "execution_count": 7,
   "metadata": {},
   "outputs": [],
   "source": [
    "import torch\n",
    "import matplotlib.pyplot as plt"
   ]
  },
  {
   "cell_type": "code",
   "execution_count": 13,
   "metadata": {},
   "outputs": [],
   "source": [
    "a = torch.randn(10000)"
   ]
  },
  {
   "cell_type": "code",
   "execution_count": 14,
   "metadata": {},
   "outputs": [
    {
     "data": {
      "text/plain": [
       "(array([   8.,   91.,  534., 1712., 2926., 2731., 1516.,  423.,   53.,\n",
       "           6.]),\n",
       " array([-3.8676198 , -3.082831  , -2.298042  , -1.5132532 , -0.72846437,\n",
       "         0.05632448,  0.8411133 ,  1.6259022 ,  2.410691  ,  3.1954799 ,\n",
       "         3.9802687 ], dtype=float32),\n",
       " <a list of 10 Patch objects>)"
      ]
     },
     "execution_count": 14,
     "metadata": {},
     "output_type": "execute_result"
    },
    {
     "data": {
      "image/png": "[encoded data removed]",
      "text/plain": [
       "<Figure size 432x288 with 1 Axes>"
      ]
     },
     "metadata": {
      "needs_background": "light"
     },
     "output_type": "display_data"
    }
   ],
   "source": [
    "plt.hist(a)\n"
   ]
  },
  {
   "cell_type": "code",
   "execution_count": 16,
   "metadata": {},
   "outputs": [
    {
     "data": {
      "text/plain": [
       "(tensor(-0.0059), tensor(0.9857))"
      ]
     },
     "execution_count": 16,
     "metadata": {},
     "output_type": "execute_result"
    }
   ],
   "source": [
    "a.mean(),a.std()"
   ]
  },
  {
   "cell_type": "markdown",
   "metadata": {},
   "source": [
    "While reading the text reader should constantly be asking two questions:\n",
    "    1.How can i implement this.-> 'ensures actual understanding and also brings engineering problems into the picture.'\n",
    "    2.How can i be sure what i'm doing will work if implemented correctly. -> 'ensures rigor.'"
   ]
  },
  {
   "cell_type": "markdown",
   "metadata": {},
   "source": [
    "### Immediate RL.\n",
    "\n",
    "A = [1,2,3...n]\n",
    "\n",
    "* Multi-arm Bandit problems:solution concepts\n",
    "-> Asymptotic convergence.\n",
    "-> Regret optimality\n",
    "-> PAC complexity.(probably approximately correct)\n",
    "\n",
    "1.value function based methods - q.\n",
    "a.'E' greedy approach\n",
    "b.softmax approach.(more intelligent approach.)\n",
    "\n",
    "questions: What is the effect of using constant 'alpha' in case of stationary problems.(u will keep swinging back n forth.)\n"
   ]
  },
  {
   "cell_type": "markdown",
   "metadata": {},
   "source": [
    "bandit based problems:\n",
    "Regret optimality.\n",
    "UCB(upper confidence bound):"
   ]
  },
  {
   "cell_type": "code",
   "execution_count": 1,
   "metadata": {},
   "outputs": [],
   "source": [
    "import gym\n",
    "from collections import namedtuple\n",
    "import numpy as np\n",
    "\n",
    "import torch\n",
    "import torch.nn as nn\n",
    "import torch.optim as optim\n",
    "\n",
    "\n",
    "HIDDEN_SIZE = 128\n",
    "BATCH_SIZE = 16\n",
    "PERCENTILE = 70\n",
    "\n",
    "\n",
    "class Net(nn.Module):\n",
    "    def __init__(self, obs_size, hidden_size, n_actions):\n",
    "        super(Net, self).__init__()\n",
    "        self.net = nn.Sequential(\n",
    "            nn.Linear(obs_size, hidden_size),\n",
    "            nn.ReLU(),\n",
    "            nn.Linear(hidden_size, n_actions)\n",
    "        )\n",
    "\n",
    "    def forward(self, x):\n",
    "        return self.net(x)\n",
    "\n",
    "\n",
    "Episode = namedtuple('Episode', field_names=['reward', 'steps'])\n",
    "EpisodeStep = namedtuple('EpisodeStep', field_names=['observation', 'action'])\n",
    "\n",
    "\n",
    "def iterate_batches(env, net, batch_size):\n",
    "    batch = []\n",
    "    episode_reward = 0.0\n",
    "    episode_steps = []\n",
    "    obs = env.reset()\n",
    "    sm = nn.Softmax(dim=1)\n",
    "    while True:\n",
    "        obs_v = torch.FloatTensor([obs])\n",
    "        act_probs_v = sm(net(obs_v))\n",
    "        act_probs = act_probs_v.data.numpy()[0]\n",
    "        action = np.random.choice(len(act_probs), p=act_probs)\n",
    "        next_obs, reward, is_done, _ = env.step(action)\n",
    "        episode_reward += reward\n",
    "        step = EpisodeStep(observation=obs, action=action)\n",
    "        episode_steps.append(step)\n",
    "        if is_done:\n",
    "            e = Episode(reward=episode_reward, steps=episode_steps)\n",
    "            batch.append(e)\n",
    "            episode_reward = 0.0\n",
    "            episode_steps = []\n",
    "            next_obs = env.reset()\n",
    "            if len(batch) == batch_size:\n",
    "                yield batch\n",
    "                batch = []\n",
    "        obs = next_obs\n",
    "        \n",
    "        \n",
    "def iterate_batches(env, net, batch_size):\n",
    "    batch = []\n",
    "    episode_reward = 0.0\n",
    "    episode_steps = []\n",
    "    obs = env.reset()\n",
    "    sm = nn.Softmax(dim=1)\n",
    "    while True:\n",
    "        obs_v = torch.FloatTensor([obs])\n",
    "        act_probs_v = sm(net(obs_v))\n",
    "        act_probs = act_probs_v.data.numpy()[0]\n",
    "        action = np.random.choice(len(act_probs), p=act_probs)\n",
    "        next_obs, reward, is_done, _ = env.step(action)\n",
    "        episode_reward += reward\n",
    "        step = EpisodeStep(observation=obs, action=action)\n",
    "        episode_steps.append(step)\n",
    "        if is_done:\n",
    "            e = Episode(reward=episode_reward, steps=episode_steps)\n",
    "            batch.append(e)\n",
    "            episode_reward = 0.0\n",
    "            episode_steps = []\n",
    "            next_obs = env.reset()\n",
    "            if len(batch) == batch_size:\n",
    "                yield batch\n",
    "                batch = []\n",
    "        obs = next_obs\n",
    "\n",
    "\n",
    "def filter_batch(batch, percentile):\n",
    "    rewards = list(map(lambda s: s.reward, batch))\n",
    "    reward_bound = np.percentile(rewards, percentile)\n",
    "    reward_mean = float(np.mean(rewards))\n",
    "\n",
    "    train_obs = []\n",
    "    train_act = []\n",
    "    for reward, steps in batch:\n",
    "        if reward < reward_bound:\n",
    "            continue\n",
    "        train_obs.extend(map(lambda step: step.observation, steps))\n",
    "        train_act.extend(map(lambda step: step.action, steps))\n",
    "\n",
    "    train_obs_v = torch.FloatTensor(train_obs)\n",
    "    train_act_v = torch.LongTensor(train_act)\n",
    "    return train_obs_v, train_act_v, reward_bound, reward_mean"
   ]
  },
  {
   "cell_type": "code",
   "execution_count": 2,
   "metadata": {},
   "outputs": [
    {
     "name": "stderr",
     "output_type": "stream",
     "text": [
      "/Users/vinay/anaconda3/envs/fastai2/lib/python3.7/site-packages/gym/logger.py:30: UserWarning: \u001b[33mWARN: Box bound precision lowered by casting to float32\u001b[0m\n",
      "  warnings.warn(colorize('%s: %s'%('WARN', msg % args), 'yellow'))\n"
     ]
    },
    {
     "name": "stdout",
     "output_type": "stream",
     "text": [
      "0: loss=0.667, reward_mean=16.6, rw_bound=18.0\n",
      "1: loss=0.679, reward_mean=25.4, rw_bound=32.0\n",
      "2: loss=0.698, reward_mean=25.6, rw_bound=27.5\n",
      "3: loss=0.668, reward_mean=23.2, rw_bound=26.0\n",
      "4: loss=0.661, reward_mean=23.7, rw_bound=26.5\n",
      "5: loss=0.663, reward_mean=28.8, rw_bound=35.0\n",
      "6: loss=0.651, reward_mean=39.9, rw_bound=38.5\n",
      "7: loss=0.650, reward_mean=36.7, rw_bound=41.0\n",
      "8: loss=0.623, reward_mean=37.5, rw_bound=48.5\n",
      "9: loss=0.623, reward_mean=52.4, rw_bound=58.5\n",
      "10: loss=0.623, reward_mean=56.4, rw_bound=59.5\n",
      "11: loss=0.606, reward_mean=58.3, rw_bound=67.0\n",
      "12: loss=0.598, reward_mean=46.6, rw_bound=52.5\n",
      "13: loss=0.589, reward_mean=50.6, rw_bound=58.5\n",
      "14: loss=0.596, reward_mean=63.3, rw_bound=73.5\n",
      "15: loss=0.593, reward_mean=68.1, rw_bound=70.0\n",
      "16: loss=0.567, reward_mean=65.3, rw_bound=71.5\n",
      "17: loss=0.570, reward_mean=73.6, rw_bound=86.5\n",
      "18: loss=0.569, reward_mean=69.8, rw_bound=77.5\n",
      "19: loss=0.553, reward_mean=81.2, rw_bound=89.5\n",
      "20: loss=0.534, reward_mean=74.4, rw_bound=86.0\n",
      "21: loss=0.548, reward_mean=86.4, rw_bound=95.5\n",
      "22: loss=0.545, reward_mean=98.3, rw_bound=116.0\n",
      "23: loss=0.532, reward_mean=90.2, rw_bound=92.5\n",
      "24: loss=0.531, reward_mean=109.6, rw_bound=107.5\n",
      "25: loss=0.531, reward_mean=112.4, rw_bound=123.5\n",
      "26: loss=0.556, reward_mean=132.6, rw_bound=148.5\n",
      "27: loss=0.538, reward_mean=165.4, rw_bound=200.0\n",
      "28: loss=0.540, reward_mean=179.9, rw_bound=200.0\n",
      "29: loss=0.536, reward_mean=177.6, rw_bound=200.0\n",
      "30: loss=0.548, reward_mean=181.6, rw_bound=200.0\n",
      "31: loss=0.533, reward_mean=188.0, rw_bound=200.0\n",
      "32: loss=0.533, reward_mean=172.6, rw_bound=200.0\n",
      "33: loss=0.536, reward_mean=190.4, rw_bound=200.0\n",
      "34: loss=0.535, reward_mean=176.8, rw_bound=200.0\n",
      "35: loss=0.541, reward_mean=169.8, rw_bound=200.0\n",
      "36: loss=0.550, reward_mean=169.8, rw_bound=200.0\n",
      "37: loss=0.526, reward_mean=187.4, rw_bound=200.0\n",
      "38: loss=0.523, reward_mean=188.8, rw_bound=200.0\n",
      "39: loss=0.525, reward_mean=183.2, rw_bound=200.0\n",
      "40: loss=0.523, reward_mean=191.8, rw_bound=200.0\n",
      "41: loss=0.516, reward_mean=194.2, rw_bound=200.0\n",
      "42: loss=0.523, reward_mean=195.8, rw_bound=200.0\n",
      "43: loss=0.516, reward_mean=194.6, rw_bound=200.0\n",
      "44: loss=0.526, reward_mean=198.7, rw_bound=200.0\n",
      "45: loss=0.514, reward_mean=200.0, rw_bound=200.0\n",
      "Solved!\n"
     ]
    }
   ],
   "source": [
    "    env = gym.make(\"CartPole-v0\")\n",
    "    # env = gym.wrappers.Monitor(env, directory=\"mon\", force=True)\n",
    "    obs_size = env.observation_space.shape[0]\n",
    "    n_actions = env.action_space.n\n",
    "\n",
    "    net = Net(obs_size, HIDDEN_SIZE, n_actions)\n",
    "    objective = nn.CrossEntropyLoss()\n",
    "    optimizer = optim.Adam(params=net.parameters(), lr=0.01)\n",
    "    \n",
    "    for iter_no, batch in enumerate(iterate_batches(\n",
    "            env, net, BATCH_SIZE)):\n",
    "        obs_v, acts_v, reward_b, reward_m = \\\n",
    "            filter_batch(batch, PERCENTILE)\n",
    "        optimizer.zero_grad()\n",
    "        action_scores_v = net(obs_v)\n",
    "        loss_v = objective(action_scores_v, acts_v)\n",
    "        loss_v.backward()\n",
    "        optimizer.step()\n",
    "        print(\"%d: loss=%.3f, reward_mean=%.1f, rw_bound=%.1f\" % (\n",
    "            iter_no, loss_v.item(), reward_m, reward_b))\n",
    "        if reward_m > 199:\n",
    "            print(\"Solved!\")\n",
    "            break"
   ]
  },
  {
   "cell_type": "code",
   "execution_count": null,
   "metadata": {},
   "outputs": [],
   "source": []
  }
 ],
 "metadata": {
  "kernelspec": {
   "display_name": "Python 3",
   "language": "python",
   "name": "python3"
  },
  "language_info": {
   "codemirror_mode": {
    "name": "ipython",
    "version": 3
   },
   "file_extension": ".py",
   "mimetype": "text/x-python",
   "name": "python",
   "nbconvert_exporter": "python",
   "pygments_lexer": "ipython3",
   "version": "3.7.6"
  }
 },
 "nbformat": 4,
 "nbformat_minor": 2
}
